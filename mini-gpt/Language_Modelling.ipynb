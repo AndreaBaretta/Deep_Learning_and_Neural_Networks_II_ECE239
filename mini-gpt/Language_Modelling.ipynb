{
 "cells": [
  {
   "cell_type": "code",
   "execution_count": 77,
   "metadata": {},
   "outputs": [
    {
     "data": {
      "text/html": [
       "<style>.container { width:80% !important; }</style>"
      ],
      "text/plain": [
       "<IPython.core.display.HTML object>"
      ]
     },
     "metadata": {},
     "output_type": "display_data"
    }
   ],
   "source": [
    "from IPython.display import display, HTML\n",
    "display(HTML(\"<style>.container { width:80% !important; }</style>\"))"
   ]
  },
  {
   "cell_type": "markdown",
   "metadata": {},
   "source": [
    "# Google Colab Setup \n",
    "\n",
    "Please run the code below to mount drive if you are running on colab.\n",
    "\n",
    "Please ignore if you are running on your local machine."
   ]
  },
  {
   "cell_type": "code",
   "execution_count": 2,
   "metadata": {},
   "outputs": [],
   "source": [
    "# from google.colab import drive\n",
    "# drive.mount('/content/drive')"
   ]
  },
  {
   "cell_type": "code",
   "execution_count": 3,
   "metadata": {},
   "outputs": [],
   "source": [
    "# %cd /content/drive/MyDrive/MiniGPT/"
   ]
  },
  {
   "cell_type": "markdown",
   "metadata": {},
   "source": [
    "# Language Modeling and Transformers\n",
    "\n",
    "The project will consist of two broad parts. \n",
    "\n",
    "1. **Baseline Generative Language Model**: We will train a simple Bigram language model on the text data. We will use this model to generate a mini story. \n",
    "2. **Implementing Mini GPT**: We will implement a mini version of the GPT model layer by layer and attempt to train it on the text data. You will then load pretrained weights provided and generate a mini story. "
   ]
  },
  {
   "cell_type": "markdown",
   "metadata": {},
   "source": [
    "## Some general instructions \n",
    "\n",
    "1. Please keep the name of layers consistent with what is requested in the `model.py` file for each layer, this helps us test in each function independently. \n",
    "2. Please check to see if the bias is to be set to false or true for all linear layers (it is mentioned in the doc string)\n",
    "3. As a general rule please read the docstring well, it contains information you will need to write the code. \n",
    "4. All configs are defined in `config.py` for the first part while you are writing the code do not change the values in the config file since we use them to test. Once you have passed all the tests please feel free to vary the parameter as you please.\n",
    "5. You will need to fill in the `train.py` and run it to train the model. If you are running into memory issues please feel free to change the `batch_size` in the `config.py` file. If you are working on Colab please make sure to use the GPU runtime and feel free to copy over the training code to the notebook. "
   ]
  },
  {
   "cell_type": "code",
   "execution_count": 1,
   "metadata": {},
   "outputs": [],
   "source": [
    "# !pip install numpy torch tiktoken wandb einops # Install all required packages"
   ]
  },
  {
   "cell_type": "code",
   "execution_count": 1,
   "metadata": {},
   "outputs": [],
   "source": [
    "%load_ext autoreload\n",
    "%autoreload 2"
   ]
  },
  {
   "cell_type": "code",
   "execution_count": 3,
   "metadata": {},
   "outputs": [],
   "source": [
    "import torch\n",
    "import tiktoken"
   ]
  },
  {
   "cell_type": "code",
   "execution_count": 4,
   "metadata": {},
   "outputs": [],
   "source": [
    "from model import BigramLanguageModel, SingleHeadAttention, MultiHeadAttention, FeedForwardLayer, LayerNorm, TransformerLayer, MiniGPT\n",
    "from config import BigramConfig, MiniGPTConfig\n",
    "import tests"
   ]
  },
  {
   "cell_type": "code",
   "execution_count": 5,
   "metadata": {},
   "outputs": [],
   "source": [
    "device = torch.device(\"cuda\" if torch.cuda.is_available() else \"cpu\")"
   ]
  },
  {
   "cell_type": "code",
   "execution_count": 6,
   "metadata": {},
   "outputs": [],
   "source": [
    "path_to_bigram_tester = \"./pretrained_models/bigram_tester.pt\" # Load the bigram model with name bigram_tester.pt\n",
    "path_to_gpt_tester = \"./pretrained_models/minigpt_tester.pt\" # Load the gpt model with name minigpt_tester.pt"
   ]
  },
  {
   "cell_type": "markdown",
   "metadata": {},
   "source": [
    "##  Bigram Language Model (10 points)\n",
    "\n",
    "A bigram language model is a type of probabilistic language model that predicts a word given the previous word in the sequence. The model is trained on a text corpus and learns the probability of a word given the previous word.\n",
    "\n"
   ]
  },
  {
   "cell_type": "markdown",
   "metadata": {},
   "source": [
    "### Implement the Bigram model (5 points)\n",
    "\n",
    "Please complete the `BigramLanguageModel` class in model.py. We will model a Bigram language model using a simple MLP with one hidden layer. The model will take in the previous word index and output the logits over the vocabulary for the next word."
   ]
  },
  {
   "cell_type": "code",
   "execution_count": 10,
   "metadata": {},
   "outputs": [
    {
     "data": {
      "text/plain": [
       "'TEST CASE PASSED!!!'"
      ]
     },
     "execution_count": 10,
     "metadata": {},
     "output_type": "execute_result"
    }
   ],
   "source": [
    "# Test implementation for Bigram Language Model\n",
    "model = BigramLanguageModel(BigramConfig)\n",
    "tests.check_bigram(model,path_to_bigram_tester, device)"
   ]
  },
  {
   "cell_type": "markdown",
   "metadata": {},
   "source": [
    "### Training the Bigram Language Model (2.5 points)\n",
    "\n",
    "Complete the code in `train.py` to train the Bigram language model on the text data. Please provide plots for both the training and validation in the cell below.\n",
    "\n",
    "Some notes on the training process:\n",
    "\n",
    "1. You should be able to train the model slowly on your local machine.\n",
    "2. Training it on Colab will help with speed.\n",
    "3.  <span style=\"color:red\">To get full points for this section it is sufficient to show that the loss is decreasing over time</span>. You should see it saturate to a value close to around 5-6 but as long as you see it decreasing then saturating you should be good.\n",
    "4. Please log the loss curves either on wandb, tensorboard or any other logger of your choice and please attach them below."
   ]
  },
  {
   "cell_type": "markdown",
   "metadata": {},
   "source": [
    "### Train and Valid Plots"
   ]
  },
  {
   "cell_type": "code",
   "execution_count": 1,
   "metadata": {},
   "outputs": [
    {
     "name": "stderr",
     "output_type": "stream",
     "text": [
      "Failed to detect the name of this notebook, you can set it manually with the WANDB_NOTEBOOK_NAME environment variable to enable code saving.\n",
      "\u001b[34m\u001b[1mwandb\u001b[0m: Currently logged in as: \u001b[33manony-mouse-153805274587626300\u001b[0m. Use \u001b[1m`wandb login --relogin`\u001b[0m to force relogin\n"
     ]
    },
    {
     "data": {
      "text/html": [
       "wandb version 0.17.0 is available!  To upgrade, please run:\n",
       " $ pip install wandb --upgrade"
      ],
      "text/plain": [
       "<IPython.core.display.HTML object>"
      ]
     },
     "metadata": {},
     "output_type": "display_data"
    },
    {
     "data": {
      "text/html": [
       "Tracking run with wandb version 0.16.5"
      ],
      "text/plain": [
       "<IPython.core.display.HTML object>"
      ]
     },
     "metadata": {},
     "output_type": "display_data"
    },
    {
     "data": {
      "text/html": [
       "Run data is saved locally in <code>/home/andrea/git/UCLA/UCLA_ECE239/mini-gpt/wandb/run-20240518_175048-0ov283cq</code>"
      ],
      "text/plain": [
       "<IPython.core.display.HTML object>"
      ]
     },
     "metadata": {},
     "output_type": "display_data"
    },
    {
     "data": {
      "text/html": [
       "Syncing run <strong><a href='https://wandb.ai/anony-mouse-153805274587626300/dl2_proj3/runs/0ov283cq?apiKey=e78e85a0dfee202aa979ce16874ee604574d8bed/workspace' target=\"_blank\">comfy-lion-25</a></strong> to <a href='https://wandb.ai/anony-mouse-153805274587626300/dl2_proj3?apiKey=e78e85a0dfee202aa979ce16874ee604574d8bed' target=\"_blank\">Weights & Biases</a> (<a href='https://wandb.me/run' target=\"_blank\">docs</a>)<br/>"
      ],
      "text/plain": [
       "<IPython.core.display.HTML object>"
      ]
     },
     "metadata": {},
     "output_type": "display_data"
    },
    {
     "data": {
      "text/html": [
       " View project at <a href='https://wandb.ai/anony-mouse-153805274587626300/dl2_proj3?apiKey=e78e85a0dfee202aa979ce16874ee604574d8bed' target=\"_blank\">https://wandb.ai/anony-mouse-153805274587626300/dl2_proj3?apiKey=e78e85a0dfee202aa979ce16874ee604574d8bed</a>"
      ],
      "text/plain": [
       "<IPython.core.display.HTML object>"
      ]
     },
     "metadata": {},
     "output_type": "display_data"
    },
    {
     "data": {
      "text/html": [
       " View run at <a href='https://wandb.ai/anony-mouse-153805274587626300/dl2_proj3/runs/0ov283cq?apiKey=e78e85a0dfee202aa979ce16874ee604574d8bed/workspace' target=\"_blank\">https://wandb.ai/anony-mouse-153805274587626300/dl2_proj3/runs/0ov283cq?apiKey=e78e85a0dfee202aa979ce16874ee604574d8bed/workspace</a>"
      ],
      "text/plain": [
       "<IPython.core.display.HTML object>"
      ]
     },
     "metadata": {},
     "output_type": "display_data"
    },
    {
     "data": {
      "text/html": [
       "Do NOT share these links with anyone. They can be used to claim your runs."
      ],
      "text/plain": [
       "<IPython.core.display.HTML object>"
      ]
     },
     "metadata": {},
     "output_type": "display_data"
    },
    {
     "name": "stdout",
     "output_type": "stream",
     "text": [
      "number of trainable parameters: 3.27M\n",
      "Training iterations: 10000/62500 - loss=4.996214866638184, val_loss=4.608631610870361\n",
      "Training iterations: 20000/62500 - loss=4.381487846374512, val_loss=4.309932708740234\n",
      "Training iterations: 30000/62500 - loss=4.076179027557373, val_loss=3.947111129760742\n",
      "Training iterations: 40000/62500 - loss=4.1110100746154785, val_loss=4.182976245880127\n",
      "Training iterations: 50000/62500 - loss=3.656944990158081, val_loss=4.060536861419678\n",
      "Training iterations: 60000/62500 - loss=3.8277087211608887, val_loss=3.647256851196289\n"
     ]
    },
    {
     "data": {
      "text/html": [
       "<style>\n",
       "    table.wandb td:nth-child(1) { padding: 0 10px; text-align: left ; width: auto;} td:nth-child(2) {text-align: left ; width: 100%}\n",
       "    .wandb-row { display: flex; flex-direction: row; flex-wrap: wrap; justify-content: flex-start; width: 100% }\n",
       "    .wandb-col { display: flex; flex-direction: column; flex-basis: 100%; flex: 1; padding: 10px; }\n",
       "    </style>\n",
       "<div class=\"wandb-row\"><div class=\"wandb-col\"><h3>Run history:</h3><br/><table class=\"wandb\"><tr><td>train-loss</td><td>█▄▃▃▃▃▃▂▂▂▂▂▂▂▂▂▂▂▂▁▂▁▁▂▁▁▁▁▂▁▁▁▁▁▁▁▁▁▂▁</td></tr><tr><td>val-loss</td><td>█▄▄▃▃▂▃▂▂▂▂▂▂▂▂▂▁▂▁▂▁▂▁▁▂▂▁▁▁▁▁▁▂▁▂▁▁▁▁▁</td></tr></table><br/></div><div class=\"wandb-col\"><h3>Run summary:</h3><br/><table class=\"wandb\"><tr><td>train-loss</td><td>3.53609</td></tr><tr><td>val-loss</td><td>4.14727</td></tr></table><br/></div></div>"
      ],
      "text/plain": [
       "<IPython.core.display.HTML object>"
      ]
     },
     "metadata": {},
     "output_type": "display_data"
    },
    {
     "data": {
      "text/html": [
       " View run <strong style=\"color:#cdcd00\">comfy-lion-25</strong> at: <a href='https://wandb.ai/anony-mouse-153805274587626300/dl2_proj3/runs/0ov283cq?apiKey=e78e85a0dfee202aa979ce16874ee604574d8bed/workspace' target=\"_blank\">https://wandb.ai/anony-mouse-153805274587626300/dl2_proj3/runs/0ov283cq?apiKey=e78e85a0dfee202aa979ce16874ee604574d8bed/workspace</a><br/>Synced 6 W&B file(s), 0 media file(s), 0 artifact file(s) and 0 other file(s)"
      ],
      "text/plain": [
       "<IPython.core.display.HTML object>"
      ]
     },
     "metadata": {},
     "output_type": "display_data"
    },
    {
     "data": {
      "text/html": [
       "Find logs at: <code>./wandb/run-20240518_175048-0ov283cq/logs</code>"
      ],
      "text/plain": [
       "<IPython.core.display.HTML object>"
      ]
     },
     "metadata": {},
     "output_type": "display_data"
    }
   ],
   "source": [
    "from train import *\n",
    "model = BigramLanguageModel(BigramConfig)\n",
    "run = train_bigram(model)"
   ]
  },
  {
   "cell_type": "code",
   "execution_count": null,
   "metadata": {},
   "outputs": [],
   "source": []
  },
  {
   "cell_type": "markdown",
   "metadata": {},
   "source": [
    "### Generation (2.5 points)\n",
    "\n",
    "Complete the code in the `generate` method of the Bigram class and generate a mini story using the trained Bigram language model. The model will take in the previous word index and output the next word index.\n",
    "\n",
    "Start with the following seed sentence: \n",
    "    \n",
    "    `\"once upon a time\"`\n",
    "    "
   ]
  },
  {
   "cell_type": "code",
   "execution_count": 2,
   "metadata": {},
   "outputs": [
    {
     "ename": "NameError",
     "evalue": "name 'tiktoken' is not defined",
     "output_type": "error",
     "traceback": [
      "\u001b[0;31m---------------------------------------------------------------------------\u001b[0m",
      "\u001b[0;31mNameError\u001b[0m                                 Traceback (most recent call last)",
      "Cell \u001b[0;32mIn[2], line 1\u001b[0m\n\u001b[0;32m----> 1\u001b[0m tokenizer \u001b[38;5;241m=\u001b[39m \u001b[43mtiktoken\u001b[49m\u001b[38;5;241m.\u001b[39mget_encoding(\u001b[38;5;124m\"\u001b[39m\u001b[38;5;124mgpt2\u001b[39m\u001b[38;5;124m\"\u001b[39m)\n",
      "\u001b[0;31mNameError\u001b[0m: name 'tiktoken' is not defined"
     ]
    }
   ],
   "source": [
    "tokenizer = tiktoken.get_encoding(\"gpt2\")"
   ]
  },
  {
   "cell_type": "code",
   "execution_count": null,
   "metadata": {},
   "outputs": [],
   "source": [
    "gen_sent = \"Once upon a time\"\n",
    "gen_tokens = torch.tensor(tokenizer.encode(gen_sent))\n",
    "print(\"Generating text starting with:\", gen_tokens.shape)\n",
    "gen_tokens = gen_tokens.to(device)\n",
    "model.eval()\n",
    "print(\n",
    "    tokenizer.decode(\n",
    "        model.generate(gen_tokens, max_new_tokens=200).squeeze().tolist()\n",
    "    )\n",
    ")"
   ]
  },
  {
   "cell_type": "markdown",
   "metadata": {},
   "source": [
    "### Observation and Analysis\n",
    "\n",
    "Please answer the following questions. \n",
    "\n",
    "1. What can we say about the generated text in terms of grammar and coherence? \n",
    "2. What are the limitations of the Bigram language model?\n",
    "3. If the model is scaled with more parameters do you expect the bigram model to get substantially better? Why or why not?"
   ]
  },
  {
   "cell_type": "markdown",
   "metadata": {},
   "source": [
    "## Mini GPT (90 points)\n",
    "\n",
    "We will not implement a decoder style transformer model like we discussed in lecture, which is a scaled down version of the [GPT model](https://cdn.openai.com/research-covers/language-unsupervised/language_understanding_paper.pdf). \n",
    "\n",
    "All the model components follow directly from the original [Attention is All You Need](https://arxiv.org/abs/1706.03762) paper. The only difference is we will use prenormalization and learnt positional embeddings instead of fixed ones. But you will not need to worry about these details!\n",
    "\n",
    "We will now implement each layer step by step checking if it is implemented correctly in the process. We will finally put together all our layers to get a fully fledged GPT model. \n",
    "\n",
    "<span style=\"color:red\">Later layers might depend on previous layers so please make sure to check the previous layers before moving on to the next one.</span>"
   ]
  },
  {
   "cell_type": "markdown",
   "metadata": {},
   "source": [
    "### Single Head Causal Attention (20 points)\n",
    "\n",
    "We will first implement the single head causal attention layer. This layer is the same as the scaled dot product attention layer but with a causal mask to prevent the model from looking into the future.\n",
    "\n",
    "Recall that Each head has a Key, Query and Value Matrix and the scaled dot product attention is calculated as : \n",
    "\n",
    "\\begin{equation}\n",
    "\\text{Attention}(Q, K, V) = \\text{softmax}\\left(\\frac{QK^T}{\\sqrt{d_k}}\\right)V\n",
    "\\end{equation}\n",
    "\n",
    "where $d_k$ is the dimension of the key matrix.\n",
    "\n",
    "Figure below from the original paper shows how the layer is to be implemented.\n",
    "\n",
    "![image](./Images/Single_Head.png)\n",
    "\n",
    "Image credits: [Attention is All You Need Paper](https://arxiv.org/abs/1706.03762)"
   ]
  },
  {
   "cell_type": "markdown",
   "metadata": {},
   "source": [
    "Please complete the `SingleHeadAttention` class in `model.py`"
   ]
  },
  {
   "cell_type": "code",
   "execution_count": 100,
   "metadata": {
    "scrolled": false
   },
   "outputs": [
    {
     "name": "stdout",
     "output_type": "stream",
     "text": [
      "causal_mask=tensor([[0, 1, 1,  ..., 1, 1, 1],\n",
      "        [0, 0, 1,  ..., 1, 1, 1],\n",
      "        [0, 0, 0,  ..., 1, 1, 1],\n",
      "        ...,\n",
      "        [0, 0, 0,  ..., 0, 1, 1],\n",
      "        [0, 0, 0,  ..., 0, 0, 1],\n",
      "        [0, 0, 0,  ..., 0, 0, 0]])\n",
      "check_output=tensor([[[-2.7822e-01,  5.3305e-01,  3.1485e-01,  ..., -5.2881e-01,\n",
      "           1.9582e-02,  6.1297e-02],\n",
      "         [-2.8304e-01,  2.8268e-01,  2.9316e-01,  ..., -3.7224e-01,\n",
      "           1.2312e-01,  1.8370e-01],\n",
      "         [-2.1310e-01,  2.4419e-01,  2.7321e-01,  ..., -3.9037e-01,\n",
      "           1.7966e-01,  9.9865e-02],\n",
      "         ...,\n",
      "         [-2.1857e-01,  1.7240e-01,  2.0972e-01,  ..., -2.2129e-01,\n",
      "           1.5765e-01,  1.0529e-01],\n",
      "         [-2.0885e-01,  1.4504e-01,  1.0157e-01,  ..., -2.1797e-01,\n",
      "           8.5393e-02,  1.2869e-02],\n",
      "         [-1.7983e-01,  1.3882e-01,  6.3431e-02,  ..., -1.6295e-01,\n",
      "           8.5557e-02, -2.6149e-02]],\n",
      "\n",
      "        [[ 6.3812e-02, -8.7489e-02,  3.1793e-01,  ...,  3.9426e-01,\n",
      "          -4.1125e-02, -1.3795e-01],\n",
      "         [ 1.3235e-01,  1.1859e-01,  1.8749e-01,  ...,  8.5556e-02,\n",
      "          -2.4224e-01,  8.9015e-03],\n",
      "         [ 6.0122e-02,  2.9882e-01,  2.0007e-01,  ..., -4.7782e-02,\n",
      "           3.5768e-02, -6.1104e-03],\n",
      "         ...,\n",
      "         [ 1.6981e-01,  1.6223e-01,  1.5290e-01,  ..., -1.4025e-01,\n",
      "           5.7562e-02, -3.9584e-02],\n",
      "         [ 1.1713e-01,  1.5915e-01,  1.4332e-01,  ..., -1.3657e-01,\n",
      "           9.9724e-02, -5.2504e-02],\n",
      "         [ 1.0546e-01,  1.5256e-01,  1.2948e-01,  ..., -1.4769e-01,\n",
      "           8.1379e-02, -6.7400e-02]],\n",
      "\n",
      "        [[-2.8209e-01,  4.2710e-02,  1.6089e-01,  ..., -4.9320e-01,\n",
      "           2.0755e-01, -1.0544e-01],\n",
      "         [-1.6381e-01,  7.2199e-02,  1.1669e-01,  ..., -3.1588e-01,\n",
      "           2.0726e-01, -5.6479e-02],\n",
      "         [-8.0636e-02,  7.8272e-02,  8.6447e-03,  ..., -2.1141e-01,\n",
      "           1.7431e-01,  6.5832e-02],\n",
      "         ...,\n",
      "         [-1.4828e-01,  8.7519e-02, -2.6744e-02,  ..., -1.0053e-01,\n",
      "           9.2134e-02, -3.2806e-02],\n",
      "         [-1.3900e-01,  6.7902e-02, -2.7895e-02,  ..., -1.3105e-01,\n",
      "           1.0633e-01, -5.6367e-02],\n",
      "         [-9.4394e-02,  6.5731e-02, -7.6590e-02,  ..., -8.2905e-02,\n",
      "           3.4362e-02, -6.1384e-02]],\n",
      "\n",
      "        ...,\n",
      "\n",
      "        [[-2.6615e-01,  2.9720e-01, -1.1036e-03,  ..., -1.4292e-01,\n",
      "          -2.0522e-01,  8.1876e-03],\n",
      "         [-1.3489e-01,  2.4382e-01, -3.7838e-02,  ..., -5.8109e-02,\n",
      "          -1.5069e-01,  3.1292e-02],\n",
      "         [-5.4127e-02,  2.1591e-01,  5.6994e-02,  ...,  2.3770e-02,\n",
      "          -5.7145e-02,  5.0651e-02],\n",
      "         ...,\n",
      "         [-1.1873e-01,  1.8560e-01,  8.0964e-02,  ..., -9.0449e-02,\n",
      "           1.5019e-01,  5.7088e-02],\n",
      "         [-8.1161e-02,  2.5851e-01,  1.1222e-01,  ..., -4.8316e-02,\n",
      "           1.6575e-01,  1.2063e-01],\n",
      "         [-9.0945e-03,  1.6224e-01,  9.3958e-02,  ...,  1.3258e-02,\n",
      "           1.3060e-01,  7.5056e-02]],\n",
      "\n",
      "        [[-1.7267e-01,  7.3663e-02,  5.9023e-03,  ...,  2.1417e-02,\n",
      "           1.4475e-01,  1.3232e-01],\n",
      "         [-3.1174e-01,  1.3284e-01,  6.8807e-02,  ..., -7.0709e-02,\n",
      "           6.8998e-02, -1.5289e-01],\n",
      "         [-2.3473e-01,  1.1790e-01,  4.5247e-02,  ..., -9.8727e-03,\n",
      "          -2.7332e-02, -1.8542e-01],\n",
      "         ...,\n",
      "         [-1.3957e-01,  1.3795e-01,  2.0132e-01,  ..., -5.3990e-02,\n",
      "           6.1680e-02,  2.7155e-02],\n",
      "         [-1.1788e-01,  1.4398e-01,  1.9665e-01,  ...,  1.5628e-02,\n",
      "           2.8945e-02,  2.9570e-02],\n",
      "         [-1.3232e-01,  1.0820e-01,  1.7155e-01,  ...,  6.5697e-03,\n",
      "          -2.0839e-02, -1.1139e-02]],\n",
      "\n",
      "        [[ 9.0446e-03,  2.0938e-01,  3.0778e-02,  ...,  2.7176e-01,\n",
      "           2.2430e-01, -5.0409e-02],\n",
      "         [ 1.3472e-01,  1.2274e-01,  8.3461e-02,  ...,  9.7570e-02,\n",
      "          -5.5604e-02,  3.2858e-02],\n",
      "         [ 1.5461e-01,  3.7330e-02,  2.1897e-01,  ...,  5.6736e-02,\n",
      "          -1.8896e-02, -4.1964e-02],\n",
      "         ...,\n",
      "         [ 4.6509e-02,  6.5582e-02,  4.3960e-02,  ...,  1.1246e-01,\n",
      "          -6.5456e-02, -4.5478e-02],\n",
      "         [-1.7647e-02,  9.0646e-02,  2.7388e-02,  ...,  9.6639e-02,\n",
      "           1.1898e-02, -7.6305e-02],\n",
      "         [-2.1652e-02,  9.0652e-02,  1.0209e-02,  ...,  9.1516e-02,\n",
      "           1.7609e-05, -2.7941e-02]]], device='cuda:0', grad_fn=<BmmBackward0>)\n",
      "old_output=tensor([[[-0.2353,  0.4416,  0.2471,  ..., -0.4316, -0.0630,  0.0951],\n",
      "         [-0.2407,  0.1616,  0.2229,  ..., -0.2565,  0.0528,  0.2320],\n",
      "         [-0.1715,  0.1589,  0.2063,  ..., -0.2962,  0.0937,  0.1326],\n",
      "         ...,\n",
      "         [-0.1674,  0.0571,  0.1486,  ..., -0.1437,  0.0909,  0.1334],\n",
      "         [-0.1625,  0.0355,  0.0023,  ..., -0.1314, -0.0141,  0.0274],\n",
      "         [-0.1402,  0.0065, -0.0937,  ..., -0.0682, -0.0595, -0.0968]],\n",
      "\n",
      "        [[ 0.1067, -0.1789,  0.2502,  ...,  0.4915, -0.1237, -0.1042],\n",
      "         [ 0.1869,  0.0622,  0.0976,  ...,  0.1302, -0.3591,  0.0677],\n",
      "         [ 0.0877,  0.2436,  0.1356,  ...,  0.0234,  0.0116,  0.0239],\n",
      "         ...,\n",
      "         [ 0.2341,  0.0613,  0.0685,  ..., -0.0463, -0.0395,  0.0134],\n",
      "         [ 0.1546,  0.0697,  0.0627,  ..., -0.0359,  0.0287, -0.0194],\n",
      "         [ 0.1434,  0.0645,  0.0488,  ..., -0.0515,  0.0065, -0.0363]],\n",
      "\n",
      "        [[-0.2392, -0.0487,  0.0932,  ..., -0.3960,  0.1250, -0.0716],\n",
      "         [-0.1463, -0.0256,  0.0584,  ..., -0.2566,  0.1247, -0.0332],\n",
      "         [-0.0181, -0.0043, -0.0453,  ..., -0.0792,  0.1007,  0.0837],\n",
      "         ...,\n",
      "         [-0.1093,  0.0054, -0.0932,  ..., -0.0097,  0.0037,  0.0035],\n",
      "         [-0.0947, -0.0250, -0.0987,  ..., -0.0235,  0.0174, -0.0249],\n",
      "         [-0.0357, -0.0220, -0.1793,  ...,  0.0673, -0.1017, -0.0332]],\n",
      "\n",
      "        ...,\n",
      "\n",
      "        [[-0.2233,  0.2057, -0.0688,  ..., -0.0457, -0.2878,  0.0420],\n",
      "         [-0.1005,  0.1558, -0.1032,  ...,  0.0336, -0.2368,  0.0636],\n",
      "         [-0.0179,  0.1256, -0.0469,  ...,  0.1071, -0.1619,  0.0816],\n",
      "         ...,\n",
      "         [-0.1028,  0.1166, -0.0012,  ..., -0.0065,  0.0303,  0.0917],\n",
      "         [-0.0713,  0.2490,  0.0774,  ...,  0.0355,  0.1310,  0.2094],\n",
      "         [ 0.1091,  0.0710,  0.0406,  ...,  0.1311,  0.0936,  0.1355]],\n",
      "\n",
      "        [[-0.1298, -0.0178, -0.0618,  ...,  0.1186,  0.0622,  0.1661],\n",
      "         [-0.2530,  0.0346, -0.0061,  ...,  0.0370, -0.0049, -0.0865],\n",
      "         [-0.2670,  0.0540,  0.0087,  ...,  0.0351, -0.1169, -0.2590],\n",
      "         ...,\n",
      "         [-0.0935,  0.0494,  0.1358,  ...,  0.0562, -0.0039,  0.0824],\n",
      "         [-0.0755,  0.0511,  0.1352,  ...,  0.1176, -0.0304,  0.0803],\n",
      "         [-0.0913, -0.0013,  0.1016,  ...,  0.1030, -0.0967,  0.0280]],\n",
      "\n",
      "        [[ 0.0519,  0.1179, -0.0370,  ...,  0.3690,  0.1417, -0.0166],\n",
      "         [ 0.1738,  0.0339,  0.0141,  ...,  0.2000, -0.1298,  0.0642],\n",
      "         [ 0.2069, -0.0691,  0.1702,  ...,  0.1394, -0.1128, -0.0123],\n",
      "         ...,\n",
      "         [ 0.1250, -0.0364, -0.0084,  ...,  0.1816, -0.1830,  0.0017],\n",
      "         [ 0.0100,  0.0067, -0.0598,  ...,  0.2222, -0.0667, -0.0359],\n",
      "         [ 0.0255,  0.0057, -0.0742,  ...,  0.2156, -0.0954,  0.0062]]],\n",
      "       device='cuda:0')\n"
     ]
    },
    {
     "ename": "AssertionError",
     "evalue": "TEST CASE FAILED",
     "output_type": "error",
     "traceback": [
      "\u001b[0;31m---------------------------------------------------------------------------\u001b[0m",
      "\u001b[0;31mAssertionError\u001b[0m                            Traceback (most recent call last)",
      "Cell \u001b[0;32mIn[100], line 3\u001b[0m\n\u001b[1;32m      1\u001b[0m model \u001b[38;5;241m=\u001b[39m SingleHeadAttention(MiniGPTConfig\u001b[38;5;241m.\u001b[39membed_dim, MiniGPTConfig\u001b[38;5;241m.\u001b[39membed_dim\u001b[38;5;241m/\u001b[39m\u001b[38;5;241m/\u001b[39m\u001b[38;5;241m4\u001b[39m, MiniGPTConfig\u001b[38;5;241m.\u001b[39membed_dim\u001b[38;5;241m/\u001b[39m\u001b[38;5;241m/\u001b[39m\u001b[38;5;241m4\u001b[39m) \u001b[38;5;66;03m# configs are set as such for testing do not modify\u001b[39;00m\n\u001b[0;32m----> 3\u001b[0m \u001b[43mtests\u001b[49m\u001b[38;5;241;43m.\u001b[39;49m\u001b[43mcheck_singleheadattention\u001b[49m\u001b[43m(\u001b[49m\u001b[43mmodel\u001b[49m\u001b[43m,\u001b[49m\u001b[43m \u001b[49m\u001b[43mpath_to_gpt_tester\u001b[49m\u001b[43m,\u001b[49m\u001b[43m \u001b[49m\u001b[43mdevice\u001b[49m\u001b[43m)\u001b[49m\n",
      "File \u001b[0;32m~/git/UCLA/UCLA_ECE239/mini-gpt/tests.py:52\u001b[0m, in \u001b[0;36mcheck_singleheadattention\u001b[0;34m(model, checkpoint_file, device)\u001b[0m\n\u001b[1;32m     50\u001b[0m \u001b[38;5;28mprint\u001b[39m(\u001b[38;5;124mf\u001b[39m\u001b[38;5;124m\"\u001b[39m\u001b[38;5;132;01m{\u001b[39;00mcheck_output\u001b[38;5;132;01m=}\u001b[39;00m\u001b[38;5;124m\"\u001b[39m)\n\u001b[1;32m     51\u001b[0m \u001b[38;5;28mprint\u001b[39m(\u001b[38;5;124mf\u001b[39m\u001b[38;5;124m\"\u001b[39m\u001b[38;5;132;01m{\u001b[39;00mold_output\u001b[38;5;132;01m=}\u001b[39;00m\u001b[38;5;124m\"\u001b[39m)\n\u001b[0;32m---> 52\u001b[0m \u001b[38;5;28;01massert\u001b[39;00m torch\u001b[38;5;241m.\u001b[39mallclose(check_output, old_output, atol\u001b[38;5;241m=\u001b[39m\u001b[38;5;241m1e-5\u001b[39m), \u001b[38;5;124m\"\u001b[39m\u001b[38;5;124mTEST CASE FAILED\u001b[39m\u001b[38;5;124m\"\u001b[39m\n\u001b[1;32m     54\u001b[0m \u001b[38;5;28;01mreturn\u001b[39;00m \u001b[38;5;124m\"\u001b[39m\u001b[38;5;124mTEST CASE PASSED!!!\u001b[39m\u001b[38;5;124m\"\u001b[39m\n",
      "\u001b[0;31mAssertionError\u001b[0m: TEST CASE FAILED"
     ]
    }
   ],
   "source": [
    "model = SingleHeadAttention(MiniGPTConfig.embed_dim, MiniGPTConfig.embed_dim//4, MiniGPTConfig.embed_dim//4) # configs are set as such for testing do not modify\n",
    "\n",
    "tests.check_singleheadattention(model, path_to_gpt_tester, device)"
   ]
  },
  {
   "cell_type": "markdown",
   "metadata": {},
   "source": [
    "### Multi Head Attention (10 points)\n",
    "\n",
    "Now that we have a single head working, we will now scale this across multiple heads, remember that with multihead attention we compute perform head number of parallel attention operations. We then concatenate the outputs of these parallel attention operations and project them back to the desired dimension using an output linear layer.\n",
    "\n",
    "Figure below from the original paper shows how the layer is to be implemented.\n",
    "\n",
    "![image](./Images/MultiHead.png)\n",
    "\n",
    "Image credits: [Attention is All You Need Paper](https://arxiv.org/abs/1706.03762)"
   ]
  },
  {
   "cell_type": "markdown",
   "metadata": {},
   "source": [
    "Please complete the `MultiHeadAttention` class in `model.py` using the `SingleHeadAttention` class implemented earlier. "
   ]
  },
  {
   "cell_type": "code",
   "execution_count": null,
   "metadata": {},
   "outputs": [],
   "source": [
    "model = MultiHeadAttention(MiniGPTConfig.embed_dim, MiniGPTConfig.num_heads)\n",
    "\n",
    "tests.check_multiheadattention(model, path_to_gpt_tester, device)"
   ]
  },
  {
   "cell_type": "markdown",
   "metadata": {},
   "source": [
    "### Feed Forward Layer (5 points)\n",
    "\n",
    "As discussed in lecture, the attention layer is completely linear, in order to add some non-linearity we add a feed forward layer. The feed forward layer is a simple two layer MLP with a GeLU activation in between.\n",
    "\n",
    "Please complete the `FeedForwardLayer` class in `model.py`"
   ]
  },
  {
   "cell_type": "code",
   "execution_count": null,
   "metadata": {},
   "outputs": [],
   "source": [
    "model = FeedForwardLayer(MiniGPTConfig.embed_dim)\n",
    "\n",
    "tests.check_feedforward(model, path_to_gpt_tester, device)"
   ]
  },
  {
   "cell_type": "markdown",
   "metadata": {},
   "source": [
    "### LayerNorm (10 points)\n",
    "\n",
    "We will now implement the layer normalization layer. Layernorm is used across the model to normalize the activations of the previous layer. Recall that the equation for layernorm is given as:\n",
    "\n",
    "\\begin{equation}\n",
    "\n",
    "\\text{LayerNorm}(x) = \\frac{x - \\mu}{\\sqrt{\\sigma^2 + \\epsilon}} \\odot \\gamma + \\beta\n",
    "\n",
    "\\end{equation}\n",
    "\n",
    "With the learnable parameters $\\gamma$ and $\\beta$. \n",
    "\n",
    "Remember that unlike batchnorm we compute statistics across the feature dimension and not the batch dimension, hence we do not need to keep track of running averages."
   ]
  },
  {
   "cell_type": "markdown",
   "metadata": {},
   "source": [
    "Please complete the `LayerNorm` class in `model.py`"
   ]
  },
  {
   "cell_type": "code",
   "execution_count": null,
   "metadata": {},
   "outputs": [],
   "source": [
    "model = LayerNorm(MiniGPTConfig.embed_dim)\n",
    "tests.check_layernorm(model, path_to_gpt_tester, device)"
   ]
  },
  {
   "cell_type": "markdown",
   "metadata": {},
   "source": [
    "### Transformer Layer (15 points)\n",
    "\n",
    "We have now implemented all the components of the transformer layer. We will now put it all together to create a transformer layer. The transformer layer consists of a multi head attention layer, a feed forward layer and two layer norm layers.\n",
    "\n",
    "Please use the following order for each component (Varies slightly from the original attention paper):\n",
    "1. LayerNorm\n",
    "2. MultiHeadAttention\n",
    "3. LayerNorm\n",
    "4. FeedForwardLayer\n",
    "\n",
    "Remember that the transformer layer also has residual connections around each sublayer.\n",
    "\n",
    "The below figure shows the structure of the transformer layer you are required to implement.\n",
    "\n",
    "![prenorm_transformer](./Images/Prenorm.png)\n",
    "\n",
    "Image Credit : [CogView](https://arxiv.org/pdf/2105.13290)"
   ]
  },
  {
   "cell_type": "markdown",
   "metadata": {},
   "source": [
    "Implement the `TransformerLayer` class in `model.py`"
   ]
  },
  {
   "cell_type": "code",
   "execution_count": null,
   "metadata": {},
   "outputs": [],
   "source": [
    "model =  TransformerLayer(MiniGPTConfig.embed_dim, MiniGPTConfig.num_heads)\n",
    "tests.check_transformer(model, path_to_gpt_tester, device)"
   ]
  },
  {
   "cell_type": "markdown",
   "metadata": {},
   "source": [
    "### Putting it all together : MiniGPT (15 points)\n",
    "\n",
    "We are now ready to put all our layers together to build our own MiniGPT! \n",
    "\n",
    "The MiniGPT model consists of an embedding layer, a positional encoding layer and a stack of transformer layers. The output of the transformer layer is passed through a linear layer (called head) to get the final output logits. Note that in our implementation we will use [weight tying](https://arxiv.org/abs/1608.05859) between the embedding layer and the final linear layer. This allows us to save on parameters and also helps in training."
   ]
  },
  {
   "cell_type": "markdown",
   "metadata": {},
   "source": [
    "Implement the `MiniGPT` class in `model.py`"
   ]
  },
  {
   "cell_type": "code",
   "execution_count": null,
   "metadata": {},
   "outputs": [],
   "source": [
    "model = MiniGPT(MiniGPTConfig)\n",
    "tests.check_miniGPT(model, path_to_gpt_tester, device)"
   ]
  },
  {
   "cell_type": "markdown",
   "metadata": {},
   "source": [
    "### Attempt at training the model (5 points)\n",
    "\n",
    "We will now attempt to train the model on the text data. We will use the same text data as before. Please scale down the model parameters in the config file to a smaller value to make training feasible. \n",
    "\n",
    "Use the same training script we built for the Bigram model to train the MiniGPT model. If you implemented it correctly it should work just out of the box!\n",
    "\n",
    "**NOTE** : We will not be able to train the model to completion in this assignment. Unfortunately, without access to a relatively powerful GPU, training a large enough model to see good generation is not feasible. However, you should be able to see the loss decreasing over time. <span style=\"color:red\">To get full points for this section it is sufficient to show that the loss is decreasing over time</span>. You do not need to run this for more than 5000 iterations or 1 hour of training."
   ]
  },
  {
   "cell_type": "markdown",
   "metadata": {},
   "source": [
    "### Train and Valid Plots\n",
    "\n",
    "\n",
    "** Show the training and validation loss plots **"
   ]
  },
  {
   "cell_type": "markdown",
   "metadata": {},
   "source": [
    "### Generation (5 points)\n",
    "\n",
    "\n",
    "Perform generation with the model that you trained. Copy over the generation function you used for the Bigram model not the `miniGPT` class and generate a mini story using the same seed sentence. \n",
    "\n",
    "    `\"once upon a time\"`"
   ]
  },
  {
   "cell_type": "markdown",
   "metadata": {},
   "source": [
    "Please answer the following questions. \n",
    "\n",
    "1. What can we say about the generated text in terms of grammar and coherence? \n",
    "2. If the model is scaled with more parameters do you expect the GPT model to get substantially better? Why or why not?"
   ]
  },
  {
   "cell_type": "markdown",
   "metadata": {},
   "source": [
    "### Scaling up the model (5 points)\n",
    "\n",
    "To show that scale indeed will help the model learn we have trained a scaled up version of the model you just implemented. We will load the weights of this model and generate a mini story using the same seed sentence. Note that if you have implemented the model correctly just scaling the parameters and adding a few bells and whistles to the training script will results in a model like the one we will load now. "
   ]
  },
  {
   "cell_type": "code",
   "execution_count": null,
   "metadata": {},
   "outputs": [],
   "source": [
    "from model import MiniGPT\n",
    "from config import MiniGPTConfig"
   ]
  },
  {
   "cell_type": "code",
   "execution_count": null,
   "metadata": {},
   "outputs": [],
   "source": [
    "path_to_trained_model = \"pretrained_models/best_train_loss_checkpoint.pth\""
   ]
  },
  {
   "cell_type": "code",
   "execution_count": null,
   "metadata": {},
   "outputs": [],
   "source": [
    "ckpt = torch.load(path_to_trained_model, map_location=device) # remove map location if using GPU"
   ]
  },
  {
   "cell_type": "code",
   "execution_count": null,
   "metadata": {},
   "outputs": [],
   "source": [
    "# Set the configs for scaled model \n",
    "MiniGPTConfig.context_length = 512\n",
    "MiniGPTConfig.embed_dim = 256\n",
    "MiniGPTConfig.num_heads = 16\n",
    "MiniGPTConfig.num_layers = 8"
   ]
  },
  {
   "cell_type": "code",
   "execution_count": null,
   "metadata": {},
   "outputs": [],
   "source": [
    "# Load model from checkpoint\n",
    "model = MiniGPT(MiniGPTConfig)\n",
    "model.load_state_dict(ckpt[\"model_state_dict\"])"
   ]
  },
  {
   "cell_type": "code",
   "execution_count": null,
   "metadata": {},
   "outputs": [],
   "source": [
    "tokenizer = tiktoken.get_encoding(\"gpt2\")"
   ]
  },
  {
   "cell_type": "code",
   "execution_count": null,
   "metadata": {},
   "outputs": [],
   "source": [
    "model.to(device)\n",
    "gen_sent = \"Once upon a time\"\n",
    "gen_tokens = torch.tensor(tokenizer.encode(gen_sent))\n",
    "print(\"Generating text starting with:\", gen_tokens.shape)\n",
    "gen_tokens = gen_tokens.to(device)\n",
    "model.eval()\n",
    "print(\n",
    "    tokenizer.decode(\n",
    "        model.generate(gen_tokens, max_new_tokens=200).squeeze().tolist()\n",
    "    )\n",
    ")"
   ]
  },
  {
   "cell_type": "markdown",
   "metadata": {},
   "source": [
    "## Bonus (5 points)\n",
    "\n",
    "The following are some open ended questions that you can attempt if you have time. Feel free to propose your own as well if you have an interesting idea. \n",
    "\n",
    "1. The model we have implemented is a decoder only model. Can you implement the encoder part as well? This should not be too hard to do since most of the layers are already implemented.\n",
    "2. What are some improvements we can add to the training script to make training more efficient and faster? Can you concretely show that the improvements you made help in training the model better?\n",
    "3. Can you implement a beam search decoder to generate the text instead of greedy decoding? Does this help in generating better text?\n",
    "4. Can you further optimize the model architecture? For example, can you implement [Multi Query Attention](https://arxiv.org/abs/1911.02150) or [Grouped Query Attention](https://arxiv.org/pdf/2305.13245) to improve the model performance?"
   ]
  },
  {
   "cell_type": "markdown",
   "metadata": {},
   "source": []
  }
 ],
 "metadata": {
  "kernelspec": {
   "display_name": "Python 3 (ipykernel)",
   "language": "python",
   "name": "python3"
  },
  "language_info": {
   "codemirror_mode": {
    "name": "ipython",
    "version": 3
   },
   "file_extension": ".py",
   "mimetype": "text/x-python",
   "name": "python",
   "nbconvert_exporter": "python",
   "pygments_lexer": "ipython3",
   "version": "3.12.2"
  }
 },
 "nbformat": 4,
 "nbformat_minor": 2
}
