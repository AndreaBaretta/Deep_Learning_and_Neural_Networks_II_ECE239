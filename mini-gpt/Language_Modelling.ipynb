{
 "cells": [
  {
   "cell_type": "code",
   "execution_count": 1,
   "metadata": {},
   "outputs": [
    {
     "data": {
      "text/html": [
       "<style>.container { width:80% !important; }</style>"
      ],
      "text/plain": [
       "<IPython.core.display.HTML object>"
      ]
     },
     "metadata": {},
     "output_type": "display_data"
    }
   ],
   "source": [
    "from IPython.display import display, HTML\n",
    "display(HTML(\"<style>.container { width:80% !important; }</style>\"))"
   ]
  },
  {
   "cell_type": "markdown",
   "metadata": {},
   "source": [
    "# Google Colab Setup \n",
    "\n",
    "Please run the code below to mount drive if you are running on colab.\n",
    "\n",
    "Please ignore if you are running on your local machine."
   ]
  },
  {
   "cell_type": "code",
   "execution_count": 2,
   "metadata": {},
   "outputs": [],
   "source": [
    "# from google.colab import drive\n",
    "# drive.mount('/content/drive')"
   ]
  },
  {
   "cell_type": "code",
   "execution_count": 3,
   "metadata": {},
   "outputs": [],
   "source": [
    "# %cd /content/drive/MyDrive/MiniGPT/"
   ]
  },
  {
   "cell_type": "markdown",
   "metadata": {},
   "source": [
    "# Language Modeling and Transformers\n",
    "\n",
    "The project will consist of two broad parts. \n",
    "\n",
    "1. **Baseline Generative Language Model**: We will train a simple Bigram language model on the text data. We will use this model to generate a mini story. \n",
    "2. **Implementing Mini GPT**: We will implement a mini version of the GPT model layer by layer and attempt to train it on the text data. You will then load pretrained weights provided and generate a mini story. "
   ]
  },
  {
   "cell_type": "markdown",
   "metadata": {},
   "source": [
    "## Some general instructions \n",
    "\n",
    "1. Please keep the name of layers consistent with what is requested in the `model.py` file for each layer, this helps us test in each function independently. \n",
    "2. Please check to see if the bias is to be set to false or true for all linear layers (it is mentioned in the doc string)\n",
    "3. As a general rule please read the docstring well, it contains information you will need to write the code. \n",
    "4. All configs are defined in `config.py` for the first part while you are writing the code do not change the values in the config file since we use them to test. Once you have passed all the tests please feel free to vary the parameter as you please.\n",
    "5. You will need to fill in the `train.py` and run it to train the model. If you are running into memory issues please feel free to change the `batch_size` in the `config.py` file. If you are working on Colab please make sure to use the GPU runtime and feel free to copy over the training code to the notebook. "
   ]
  },
  {
   "cell_type": "code",
   "execution_count": 4,
   "metadata": {},
   "outputs": [],
   "source": [
    "# !pip install numpy torch tiktoken wandb einops # Install all required packages"
   ]
  },
  {
   "cell_type": "code",
   "execution_count": 5,
   "metadata": {},
   "outputs": [],
   "source": [
    "%load_ext autoreload\n",
    "%autoreload 2"
   ]
  },
  {
   "cell_type": "code",
   "execution_count": 6,
   "metadata": {},
   "outputs": [],
   "source": [
    "import torch\n",
    "import tiktoken"
   ]
  },
  {
   "cell_type": "code",
   "execution_count": 7,
   "metadata": {},
   "outputs": [],
   "source": [
    "from model import BigramLanguageModel, SingleHeadAttention, MultiHeadAttention, FeedForwardLayer, LayerNorm, TransformerLayer, MiniGPT\n",
    "from config import BigramConfig, MiniGPTConfig\n",
    "import tests"
   ]
  },
  {
   "cell_type": "code",
   "execution_count": 8,
   "metadata": {},
   "outputs": [],
   "source": [
    "device = torch.device(\"cuda\" if torch.cuda.is_available() else \"cpu\")"
   ]
  },
  {
   "cell_type": "code",
   "execution_count": 9,
   "metadata": {},
   "outputs": [],
   "source": [
    "path_to_bigram_tester = \"./pretrained_models/bigram_tester.pt\" # Load the bigram model with name bigram_tester.pt\n",
    "path_to_gpt_tester = \"./pretrained_models/minigpt_tester.pt\" # Load the gpt model with name minigpt_tester.pt"
   ]
  },
  {
   "cell_type": "markdown",
   "metadata": {},
   "source": [
    "##  Bigram Language Model (10 points)\n",
    "\n",
    "A bigram language model is a type of probabilistic language model that predicts a word given the previous word in the sequence. The model is trained on a text corpus and learns the probability of a word given the previous word.\n",
    "\n"
   ]
  },
  {
   "cell_type": "markdown",
   "metadata": {},
   "source": [
    "### Implement the Bigram model (5 points)\n",
    "\n",
    "Please complete the `BigramLanguageModel` class in model.py. We will model a Bigram language model using a simple MLP with one hidden layer. The model will take in the previous word index and output the logits over the vocabulary for the next word."
   ]
  },
  {
   "cell_type": "code",
   "execution_count": 10,
   "metadata": {},
   "outputs": [
    {
     "data": {
      "text/plain": [
       "'TEST CASE PASSED!!!'"
      ]
     },
     "execution_count": 10,
     "metadata": {},
     "output_type": "execute_result"
    }
   ],
   "source": [
    "# Test implementation for Bigram Language Model\n",
    "model = BigramLanguageModel(BigramConfig)\n",
    "tests.check_bigram(model,path_to_bigram_tester, device)"
   ]
  },
  {
   "cell_type": "markdown",
   "metadata": {},
   "source": [
    "### Training the Bigram Language Model (2.5 points)\n",
    "\n",
    "Complete the code in `train.py` to train the Bigram language model on the text data. Please provide plots for both the training and validation in the cell below.\n",
    "\n",
    "Some notes on the training process:\n",
    "\n",
    "1. You should be able to train the model slowly on your local machine.\n",
    "2. Training it on Colab will help with speed.\n",
    "3.  <span style=\"color:red\">To get full points for this section it is sufficient to show that the loss is decreasing over time</span>. You should see it saturate to a value close to around 5-6 but as long as you see it decreasing then saturating you should be good.\n",
    "4. Please log the loss curves either on wandb, tensorboard or any other logger of your choice and please attach them below."
   ]
  },
  {
   "cell_type": "markdown",
   "metadata": {},
   "source": [
    "### Train and Valid Plots"
   ]
  },
  {
   "cell_type": "code",
   "execution_count": 1,
   "metadata": {},
   "outputs": [
    {
     "name": "stderr",
     "output_type": "stream",
     "text": [
      "Failed to detect the name of this notebook, you can set it manually with the WANDB_NOTEBOOK_NAME environment variable to enable code saving.\n",
      "\u001b[34m\u001b[1mwandb\u001b[0m: Currently logged in as: \u001b[33manony-mouse-153805274587626300\u001b[0m. Use \u001b[1m`wandb login --relogin`\u001b[0m to force relogin\n"
     ]
    },
    {
     "data": {
      "text/html": [
       "wandb version 0.17.0 is available!  To upgrade, please run:\n",
       " $ pip install wandb --upgrade"
      ],
      "text/plain": [
       "<IPython.core.display.HTML object>"
      ]
     },
     "metadata": {},
     "output_type": "display_data"
    },
    {
     "data": {
      "text/html": [
       "Tracking run with wandb version 0.16.5"
      ],
      "text/plain": [
       "<IPython.core.display.HTML object>"
      ]
     },
     "metadata": {},
     "output_type": "display_data"
    },
    {
     "data": {
      "text/html": [
       "Run data is saved locally in <code>/home/andrea/git/UCLA/UCLA_ECE239/mini-gpt/wandb/run-20240518_175048-0ov283cq</code>"
      ],
      "text/plain": [
       "<IPython.core.display.HTML object>"
      ]
     },
     "metadata": {},
     "output_type": "display_data"
    },
    {
     "data": {
      "text/html": [
       "Syncing run <strong><a href='https://wandb.ai/anony-mouse-153805274587626300/dl2_proj3/runs/0ov283cq?apiKey=e78e85a0dfee202aa979ce16874ee604574d8bed/workspace' target=\"_blank\">comfy-lion-25</a></strong> to <a href='https://wandb.ai/anony-mouse-153805274587626300/dl2_proj3?apiKey=e78e85a0dfee202aa979ce16874ee604574d8bed' target=\"_blank\">Weights & Biases</a> (<a href='https://wandb.me/run' target=\"_blank\">docs</a>)<br/>"
      ],
      "text/plain": [
       "<IPython.core.display.HTML object>"
      ]
     },
     "metadata": {},
     "output_type": "display_data"
    },
    {
     "data": {
      "text/html": [
       " View project at <a href='https://wandb.ai/anony-mouse-153805274587626300/dl2_proj3?apiKey=e78e85a0dfee202aa979ce16874ee604574d8bed' target=\"_blank\">https://wandb.ai/anony-mouse-153805274587626300/dl2_proj3?apiKey=e78e85a0dfee202aa979ce16874ee604574d8bed</a>"
      ],
      "text/plain": [
       "<IPython.core.display.HTML object>"
      ]
     },
     "metadata": {},
     "output_type": "display_data"
    },
    {
     "data": {
      "text/html": [
       " View run at <a href='https://wandb.ai/anony-mouse-153805274587626300/dl2_proj3/runs/0ov283cq?apiKey=e78e85a0dfee202aa979ce16874ee604574d8bed/workspace' target=\"_blank\">https://wandb.ai/anony-mouse-153805274587626300/dl2_proj3/runs/0ov283cq?apiKey=e78e85a0dfee202aa979ce16874ee604574d8bed/workspace</a>"
      ],
      "text/plain": [
       "<IPython.core.display.HTML object>"
      ]
     },
     "metadata": {},
     "output_type": "display_data"
    },
    {
     "data": {
      "text/html": [
       "Do NOT share these links with anyone. They can be used to claim your runs."
      ],
      "text/plain": [
       "<IPython.core.display.HTML object>"
      ]
     },
     "metadata": {},
     "output_type": "display_data"
    },
    {
     "name": "stdout",
     "output_type": "stream",
     "text": [
      "number of trainable parameters: 3.27M\n",
      "Training iterations: 10000/62500 - loss=4.996214866638184, val_loss=4.608631610870361\n",
      "Training iterations: 20000/62500 - loss=4.381487846374512, val_loss=4.309932708740234\n",
      "Training iterations: 30000/62500 - loss=4.076179027557373, val_loss=3.947111129760742\n",
      "Training iterations: 40000/62500 - loss=4.1110100746154785, val_loss=4.182976245880127\n",
      "Training iterations: 50000/62500 - loss=3.656944990158081, val_loss=4.060536861419678\n",
      "Training iterations: 60000/62500 - loss=3.8277087211608887, val_loss=3.647256851196289\n"
     ]
    },
    {
     "data": {
      "text/html": [
       "<style>\n",
       "    table.wandb td:nth-child(1) { padding: 0 10px; text-align: left ; width: auto;} td:nth-child(2) {text-align: left ; width: 100%}\n",
       "    .wandb-row { display: flex; flex-direction: row; flex-wrap: wrap; justify-content: flex-start; width: 100% }\n",
       "    .wandb-col { display: flex; flex-direction: column; flex-basis: 100%; flex: 1; padding: 10px; }\n",
       "    </style>\n",
       "<div class=\"wandb-row\"><div class=\"wandb-col\"><h3>Run history:</h3><br/><table class=\"wandb\"><tr><td>train-loss</td><td>█▄▃▃▃▃▃▂▂▂▂▂▂▂▂▂▂▂▂▁▂▁▁▂▁▁▁▁▂▁▁▁▁▁▁▁▁▁▂▁</td></tr><tr><td>val-loss</td><td>█▄▄▃▃▂▃▂▂▂▂▂▂▂▂▂▁▂▁▂▁▂▁▁▂▂▁▁▁▁▁▁▂▁▂▁▁▁▁▁</td></tr></table><br/></div><div class=\"wandb-col\"><h3>Run summary:</h3><br/><table class=\"wandb\"><tr><td>train-loss</td><td>3.53609</td></tr><tr><td>val-loss</td><td>4.14727</td></tr></table><br/></div></div>"
      ],
      "text/plain": [
       "<IPython.core.display.HTML object>"
      ]
     },
     "metadata": {},
     "output_type": "display_data"
    },
    {
     "data": {
      "text/html": [
       " View run <strong style=\"color:#cdcd00\">comfy-lion-25</strong> at: <a href='https://wandb.ai/anony-mouse-153805274587626300/dl2_proj3/runs/0ov283cq?apiKey=e78e85a0dfee202aa979ce16874ee604574d8bed/workspace' target=\"_blank\">https://wandb.ai/anony-mouse-153805274587626300/dl2_proj3/runs/0ov283cq?apiKey=e78e85a0dfee202aa979ce16874ee604574d8bed/workspace</a><br/>Synced 6 W&B file(s), 0 media file(s), 0 artifact file(s) and 0 other file(s)"
      ],
      "text/plain": [
       "<IPython.core.display.HTML object>"
      ]
     },
     "metadata": {},
     "output_type": "display_data"
    },
    {
     "data": {
      "text/html": [
       "Find logs at: <code>./wandb/run-20240518_175048-0ov283cq/logs</code>"
      ],
      "text/plain": [
       "<IPython.core.display.HTML object>"
      ]
     },
     "metadata": {},
     "output_type": "display_data"
    }
   ],
   "source": [
    "from train import *\n",
    "model = BigramLanguageModel(BigramConfig)\n",
    "run = train_bigram(model)"
   ]
  },
  {
   "cell_type": "code",
   "execution_count": null,
   "metadata": {},
   "outputs": [],
   "source": []
  },
  {
   "cell_type": "markdown",
   "metadata": {},
   "source": [
    "### Generation (2.5 points)\n",
    "\n",
    "Complete the code in the `generate` method of the Bigram class and generate a mini story using the trained Bigram language model. The model will take in the previous word index and output the next word index.\n",
    "\n",
    "Start with the following seed sentence: \n",
    "    \n",
    "    `\"once upon a time\"`\n",
    "    "
   ]
  },
  {
   "cell_type": "code",
   "execution_count": 2,
   "metadata": {},
   "outputs": [
    {
     "ename": "NameError",
     "evalue": "name 'tiktoken' is not defined",
     "output_type": "error",
     "traceback": [
      "\u001b[0;31m---------------------------------------------------------------------------\u001b[0m",
      "\u001b[0;31mNameError\u001b[0m                                 Traceback (most recent call last)",
      "Cell \u001b[0;32mIn[2], line 1\u001b[0m\n\u001b[0;32m----> 1\u001b[0m tokenizer \u001b[38;5;241m=\u001b[39m \u001b[43mtiktoken\u001b[49m\u001b[38;5;241m.\u001b[39mget_encoding(\u001b[38;5;124m\"\u001b[39m\u001b[38;5;124mgpt2\u001b[39m\u001b[38;5;124m\"\u001b[39m)\n",
      "\u001b[0;31mNameError\u001b[0m: name 'tiktoken' is not defined"
     ]
    }
   ],
   "source": [
    "tokenizer = tiktoken.get_encoding(\"gpt2\")"
   ]
  },
  {
   "cell_type": "code",
   "execution_count": null,
   "metadata": {},
   "outputs": [],
   "source": [
    "gen_sent = \"Once upon a time\"\n",
    "gen_tokens = torch.tensor(tokenizer.encode(gen_sent))\n",
    "print(\"Generating text starting with:\", gen_tokens.shape)\n",
    "gen_tokens = gen_tokens.to(device)\n",
    "model.eval()\n",
    "print(\n",
    "    tokenizer.decode(\n",
    "        model.generate(gen_tokens, max_new_tokens=200).squeeze().tolist()\n",
    "    )\n",
    ")"
   ]
  },
  {
   "cell_type": "markdown",
   "metadata": {},
   "source": [
    "### Observation and Analysis\n",
    "\n",
    "Please answer the following questions. \n",
    "\n",
    "1. What can we say about the generated text in terms of grammar and coherence? \n",
    "2. What are the limitations of the Bigram language model?\n",
    "3. If the model is scaled with more parameters do you expect the bigram model to get substantially better? Why or why not?"
   ]
  },
  {
   "cell_type": "markdown",
   "metadata": {},
   "source": [
    "## Mini GPT (90 points)\n",
    "\n",
    "We will not implement a decoder style transformer model like we discussed in lecture, which is a scaled down version of the [GPT model](https://cdn.openai.com/research-covers/language-unsupervised/language_understanding_paper.pdf). \n",
    "\n",
    "All the model components follow directly from the original [Attention is All You Need](https://arxiv.org/abs/1706.03762) paper. The only difference is we will use prenormalization and learnt positional embeddings instead of fixed ones. But you will not need to worry about these details!\n",
    "\n",
    "We will now implement each layer step by step checking if it is implemented correctly in the process. We will finally put together all our layers to get a fully fledged GPT model. \n",
    "\n",
    "<span style=\"color:red\">Later layers might depend on previous layers so please make sure to check the previous layers before moving on to the next one.</span>"
   ]
  },
  {
   "cell_type": "markdown",
   "metadata": {},
   "source": [
    "### Single Head Causal Attention (20 points)\n",
    "\n",
    "We will first implement the single head causal attention layer. This layer is the same as the scaled dot product attention layer but with a causal mask to prevent the model from looking into the future.\n",
    "\n",
    "Recall that Each head has a Key, Query and Value Matrix and the scaled dot product attention is calculated as : \n",
    "\n",
    "\\begin{equation}\n",
    "\\text{Attention}(Q, K, V) = \\text{softmax}\\left(\\frac{QK^T}{\\sqrt{d_k}}\\right)V\n",
    "\\end{equation}\n",
    "\n",
    "where $d_k$ is the dimension of the key matrix.\n",
    "\n",
    "Figure below from the original paper shows how the layer is to be implemented.\n",
    "\n",
    "![image](./Images/Single_Head.png)\n",
    "\n",
    "Image credits: [Attention is All You Need Paper](https://arxiv.org/abs/1706.03762)"
   ]
  },
  {
   "cell_type": "code",
   "execution_count": 35,
   "metadata": {},
   "outputs": [
    {
     "data": {
      "text/plain": [
       "'TEST CASE PASSED!!!'"
      ]
     },
     "execution_count": 35,
     "metadata": {},
     "output_type": "execute_result"
    }
   ],
   "source": [
    "model = SingleHeadAttention(MiniGPTConfig.embed_dim, MiniGPTConfig.embed_dim//4, MiniGPTConfig.embed_dim//4) # configs are set as such for testing do not modify\n",
    "tests.check_singleheadattention(model, path_to_gpt_tester, device)"
   ]
  },
  {
   "cell_type": "code",
   "execution_count": null,
   "metadata": {},
   "outputs": [],
   "source": [
    "import numpy as np\n",
    "data_file = \"./test_cases.npz\"\n",
    "key = \"singleheadattention\"\n",
    "data = np.load(data_file)\n",
    "old_input = torch.from_numpy(data[key + \"_input\"]).to(\"cuda\")"
   ]
  },
  {
   "cell_type": "code",
   "execution_count": 286,
   "metadata": {},
   "outputs": [
    {
     "name": "stdout",
     "output_type": "stream",
     "text": [
      "Parameter containing:\n",
      "tensor([[-0.1049, -0.0179, -0.0841,  ...,  0.0472, -0.1225,  0.0602],\n",
      "        [-0.0907, -0.0397,  0.0588,  ...,  0.1060, -0.0155,  0.0987],\n",
      "        [-0.0784,  0.1234, -0.1045,  ...,  0.1161,  0.0936,  0.1105],\n",
      "        ...,\n",
      "        [ 0.0870,  0.0428,  0.0964,  ..., -0.0993,  0.0404,  0.0775],\n",
      "        [-0.1151,  0.0202, -0.0079,  ...,  0.1085, -0.1077,  0.0679],\n",
      "        [ 0.1195, -0.0320,  0.0077,  ..., -0.0922,  0.0088,  0.0459]],\n",
      "       requires_grad=True)\n"
     ]
    }
   ],
   "source": [
    "model = SingleHeadAttention(MiniGPTConfig.embed_dim, MiniGPTConfig.embed_dim//4, MiniGPTConfig.embed_dim//4) # configs are set as such for testing do not modify\n",
    "print(model.key.weight)"
   ]
  },
  {
   "cell_type": "code",
   "execution_count": 287,
   "metadata": {},
   "outputs": [
    {
     "name": "stdout",
     "output_type": "stream",
     "text": [
      "tensor([[-0.1049, -0.0179, -0.0841,  ...,  0.0472, -0.1225,  0.0602],\n",
      "        [-0.0907, -0.0397,  0.0588,  ...,  0.1060, -0.0155,  0.0987],\n",
      "        [-0.0784,  0.1234, -0.1045,  ...,  0.1161,  0.0936,  0.1105],\n",
      "        ...,\n",
      "        [ 0.0870,  0.0428,  0.0964,  ..., -0.0993,  0.0404,  0.0775],\n",
      "        [-0.1151,  0.0202, -0.0079,  ...,  0.1085, -0.1077,  0.0679],\n",
      "        [ 0.1195, -0.0320,  0.0077,  ..., -0.0922,  0.0088,  0.0459]])\n",
      "tensor([[ 0.0100, -0.0674, -0.0818,  ...,  0.1394, -0.0457, -0.0254],\n",
      "        [-0.0522, -0.0628, -0.0789,  ..., -0.1113,  0.0129,  0.0384],\n",
      "        [ 0.0013,  0.0920, -0.0182,  ...,  0.0385,  0.0361, -0.0939],\n",
      "        ...,\n",
      "        [ 0.0406, -0.0487, -0.0809,  ...,  0.0543, -0.0311,  0.0135],\n",
      "        [ 0.0136, -0.0598, -0.0318,  ...,  0.2232, -0.0556, -0.0097],\n",
      "        [-0.0166,  0.0084, -0.1420,  ...,  0.1538, -0.0861, -0.0046]])\n"
     ]
    },
    {
     "data": {
      "text/plain": [
       "tensor(False)"
      ]
     },
     "execution_count": 287,
     "metadata": {},
     "output_type": "execute_result"
    }
   ],
   "source": [
    "ckpt = torch.load(path_to_gpt_tester, map_location=device)\n",
    "print(model.key.weight.data)\n",
    "a = model.key.weight.data.clone()\n",
    "with torch.no_grad():\n",
    "\n",
    "    model.key.weight.copy_(\n",
    "        ckpt[\"model_state_dict\"][\"transformer_layers.0.attention.head_0.key.weight\"]\n",
    "    )\n",
    "    model.query.weight.copy_(\n",
    "        ckpt[\"model_state_dict\"][\n",
    "            \"transformer_layers.0.attention.head_0.query.weight\"\n",
    "        ]\n",
    "    )\n",
    "    model.value.weight.copy_(\n",
    "        ckpt[\"model_state_dict\"][\n",
    "            \"transformer_layers.0.attention.head_0.value.weight\"\n",
    "        ]\n",
    "    )\n",
    "    model.causal_mask.copy_(\n",
    "        ckpt[\"model_state_dict\"][\n",
    "            \"transformer_layers.0.attention.head_0.causal_mask\"\n",
    "        ]\n",
    "    )\n",
    "print(model.key.weight.data)\n",
    "((a - model.key.weight.data) == 0).all()"
   ]
  },
  {
   "cell_type": "code",
   "execution_count": 288,
   "metadata": {},
   "outputs": [
    {
     "name": "stdout",
     "output_type": "stream",
     "text": [
      "K=tensor([[[ 0.3168, -0.8926,  0.4330,  ..., -0.4311, -0.1072, -0.2947],\n",
      "         [ 0.6227,  0.1689, -0.0955,  ...,  0.6620,  0.5843,  0.8092],\n",
      "         [ 0.4324,  0.4574, -0.8476,  ...,  0.1985,  0.0189, -0.2356],\n",
      "         ...,\n",
      "         [ 0.0211, -0.0673, -0.6237,  ...,  0.5999,  0.2107,  0.2072],\n",
      "         [-0.0892,  0.0916,  2.1027,  ...,  0.4371, -0.1155,  0.8550],\n",
      "         [ 0.2574,  0.8846, -0.0964,  ...,  0.0833, -0.6097, -0.2315]],\n",
      "\n",
      "        [[ 0.0034, -0.3145, -0.0900,  ...,  0.0314,  0.2440,  0.0850],\n",
      "         [ 0.0691, -0.7475, -0.2158,  ..., -0.6004,  0.0884, -0.5879],\n",
      "         [ 0.0668,  0.4437,  0.0940,  ...,  0.1309,  0.2482,  0.2645],\n",
      "         ...,\n",
      "         [-0.1654,  0.1392,  0.4341,  ..., -0.2398, -0.0333, -0.6826],\n",
      "         [ 0.5554, -0.1345, -0.8010,  ..., -0.1131,  0.4770,  0.0866],\n",
      "         [ 0.0456, -0.1974,  0.8776,  ...,  0.1746,  0.5212,  0.4142]],\n",
      "\n",
      "        [[ 0.3289, -0.2587, -0.3318,  ..., -0.0373,  0.4712,  0.2371],\n",
      "         [ 0.5680,  0.9734, -0.6693,  ..., -0.3374, -0.3121, -0.8488],\n",
      "         [ 0.2690,  0.0942,  0.9488,  ...,  0.5488,  0.2275,  0.5981],\n",
      "         ...,\n",
      "         [ 0.0924, -0.2851,  0.4850,  ...,  0.1706,  0.1719,  0.4616],\n",
      "         [-0.0780, -0.0957,  0.0570,  ..., -0.3106, -0.4137, -0.2440],\n",
      "         [-0.9802, -0.3610,  0.7510,  ..., -0.3462, -0.3504, -0.4562]],\n",
      "\n",
      "        ...,\n",
      "\n",
      "        [[ 0.0716, -0.2611,  0.7414,  ..., -0.2797, -0.0513,  0.2208],\n",
      "         [-0.3433, -0.1133, -0.2558,  ...,  0.1239, -0.4361,  0.0283],\n",
      "         [ 0.1042, -0.0504, -0.9894,  ..., -0.1905,  0.0124, -0.4226],\n",
      "         ...,\n",
      "         [ 1.4978, -0.8001, -0.8805,  ..., -0.0794,  1.2371,  0.7188],\n",
      "         [ 0.1658, -0.4350,  1.0065,  ..., -0.1771,  0.2144,  0.4452],\n",
      "         [-0.0500, -0.4575,  0.0240,  ..., -0.2981, -0.3688, -0.1136]],\n",
      "\n",
      "        [[-0.6289,  0.1641,  0.5235,  ...,  0.2614, -0.2972, -0.0354],\n",
      "         [ 0.4357, -0.1016,  0.8779,  ...,  0.1383,  0.6437,  0.4745],\n",
      "         [ 0.0943,  0.3172, -0.0900,  ..., -0.3139, -0.0632, -0.3638],\n",
      "         ...,\n",
      "         [-0.6375, -0.4823, -0.1851,  ..., -1.1445, -0.8243, -1.7701],\n",
      "         [-0.0071, -0.0537, -0.2614,  ..., -0.5473,  0.1013, -0.4410],\n",
      "         [-0.1819,  0.1363,  0.2002,  ...,  0.2627, -0.3751, -0.0191]],\n",
      "\n",
      "        [[ 0.3158,  0.0267,  0.1836,  ...,  0.3300,  0.2290,  0.2251],\n",
      "         [-0.9687, -0.0174, -0.7414,  ..., -0.8422, -0.9666, -1.2586],\n",
      "         [-0.5266, -0.0136, -0.2335,  ...,  0.1193, -0.4803,  0.0130],\n",
      "         ...,\n",
      "         [-0.3828,  0.2161,  0.3055,  ...,  1.0502, -0.0959,  0.7668],\n",
      "         [-0.3385, -1.4848,  0.2247,  ..., -0.2387, -0.3917, -0.5216],\n",
      "         [-0.0295,  0.1665,  0.8846,  ...,  0.4559,  0.1262,  0.6118]]],\n",
      "       device='cuda:0', grad_fn=<UnsafeViewBackward0>)\n",
      "self.key.weight.data=tensor([[ 0.0100, -0.0674, -0.0818,  ...,  0.1394, -0.0457, -0.0254],\n",
      "        [-0.0522, -0.0628, -0.0789,  ..., -0.1113,  0.0129,  0.0384],\n",
      "        [ 0.0013,  0.0920, -0.0182,  ...,  0.0385,  0.0361, -0.0939],\n",
      "        ...,\n",
      "        [ 0.0406, -0.0487, -0.0809,  ...,  0.0543, -0.0311,  0.0135],\n",
      "        [ 0.0136, -0.0598, -0.0318,  ...,  0.2232, -0.0556, -0.0097],\n",
      "        [-0.0166,  0.0084, -0.1420,  ...,  0.1538, -0.0861, -0.0046]],\n",
      "       device='cuda:0')\n"
     ]
    },
    {
     "data": {
      "text/plain": [
       "tensor([[[-2.3534e-01,  4.4160e-01,  2.4712e-01,  ..., -4.3161e-01,\n",
       "          -6.3012e-02,  9.5099e-02],\n",
       "         [-2.4021e-01,  1.8888e-01,  2.2522e-01,  ..., -2.7357e-01,\n",
       "           4.1498e-02,  2.1865e-01],\n",
       "         [-1.7100e-01,  1.5196e-01,  2.0559e-01,  ..., -2.9223e-01,\n",
       "           9.6958e-02,  1.3514e-01],\n",
       "         ...,\n",
       "         [-1.7518e-01,  8.0654e-02,  1.4199e-01,  ..., -1.2506e-01,\n",
       "           7.4819e-02,  1.4043e-01],\n",
       "         [-1.6505e-01,  5.2442e-02,  3.1687e-02,  ..., -1.2153e-01,\n",
       "           1.2633e-03,  4.5715e-02],\n",
       "         [-1.3623e-01,  4.5516e-02, -7.6407e-03,  ..., -6.6783e-02,\n",
       "           5.3385e-04,  5.4808e-03]],\n",
       "\n",
       "        [[ 1.0668e-01, -1.7895e-01,  2.5020e-01,  ...,  4.9146e-01,\n",
       "          -1.2372e-01, -1.0415e-01],\n",
       "         [ 1.7492e-01,  2.6231e-02,  1.2033e-01,  ...,  1.8411e-01,\n",
       "          -3.2396e-01,  4.2061e-02],\n",
       "         [ 1.0217e-01,  2.1042e-01,  1.3217e-01,  ...,  4.6757e-02,\n",
       "          -4.3482e-02,  2.7867e-02],\n",
       "         ...,\n",
       "         [ 2.1304e-01,  7.1749e-02,  8.5688e-02,  ..., -4.2700e-02,\n",
       "          -2.3132e-02, -5.9077e-03],\n",
       "         [ 1.6038e-01,  6.9253e-02,  7.5772e-02,  ..., -3.9289e-02,\n",
       "           1.8490e-02, -1.8740e-02],\n",
       "         [ 1.4853e-01,  6.2426e-02,  6.1873e-02,  ..., -5.0426e-02,\n",
       "          -1.2355e-04, -3.3686e-02]],\n",
       "\n",
       "        [[-2.3922e-01, -4.8747e-02,  9.3156e-02,  ..., -3.9600e-01,\n",
       "           1.2495e-01, -7.1638e-02],\n",
       "         [-1.2192e-01, -1.9502e-02,  4.9326e-02,  ..., -2.2015e-01,\n",
       "           1.2467e-01, -2.3083e-02],\n",
       "         [-3.8346e-02, -1.3414e-02, -5.9312e-02,  ..., -1.1520e-01,\n",
       "           9.1531e-02,  9.9901e-02],\n",
       "         ...,\n",
       "         [-1.0514e-01, -4.2627e-03, -9.3533e-02,  ..., -5.0305e-03,\n",
       "           1.0407e-02,  9.5988e-04],\n",
       "         [-9.5997e-02, -2.3912e-02, -9.4780e-02,  ..., -3.4955e-02,\n",
       "           2.4524e-02, -2.2419e-02],\n",
       "         [-5.1912e-02, -2.5958e-02, -1.4300e-01,  ...,  1.2717e-02,\n",
       "          -4.6634e-02, -2.7468e-02]],\n",
       "\n",
       "        ...,\n",
       "\n",
       "        [[-2.2328e-01,  2.0575e-01, -6.8833e-02,  ..., -4.5712e-02,\n",
       "          -2.8782e-01,  4.1989e-02],\n",
       "         [-9.4290e-02,  1.5329e-01, -1.0493e-01,  ...,  3.7630e-02,\n",
       "          -2.3423e-01,  6.4694e-02],\n",
       "         [-1.3166e-02,  1.2522e-01, -1.0638e-02,  ...,  1.1963e-01,\n",
       "          -1.4076e-01,  8.4097e-02],\n",
       "         ...,\n",
       "         [-7.5053e-02,  9.7092e-02,  1.4554e-02,  ...,  6.4097e-03,\n",
       "           7.0640e-02,  9.3142e-02],\n",
       "         [-3.7495e-02,  1.7020e-01,  4.6005e-02,  ...,  4.8990e-02,\n",
       "           8.5795e-02,  1.5706e-01],\n",
       "         [ 3.6071e-02,  7.3057e-02,  2.7164e-02,  ...,  1.1028e-01,\n",
       "           5.0933e-02,  1.1122e-01]],\n",
       "\n",
       "        [[-1.2979e-01, -1.7793e-02, -6.1827e-02,  ...,  1.1862e-01,\n",
       "           6.2157e-02,  1.6612e-01],\n",
       "         [-2.7267e-01,  4.3001e-02,  2.8007e-03,  ...,  2.3971e-02,\n",
       "          -1.5673e-02, -1.2690e-01],\n",
       "         [-1.9728e-01,  2.8411e-02, -2.0244e-02,  ...,  8.3548e-02,\n",
       "          -1.1023e-01, -1.5909e-01],\n",
       "         ...,\n",
       "         [-9.7518e-02,  4.5966e-02,  1.3287e-01,  ...,  4.1821e-02,\n",
       "          -2.2851e-02,  5.8239e-02],\n",
       "         [-7.5622e-02,  5.2205e-02,  1.2815e-01,  ...,  1.1195e-01,\n",
       "          -5.5745e-02,  6.0864e-02],\n",
       "         [-9.0169e-02,  1.6960e-02,  1.0325e-01,  ...,  1.0290e-01,\n",
       "          -1.0515e-01,  2.0226e-02]],\n",
       "\n",
       "        [[ 5.1917e-02,  1.1792e-01, -3.6951e-02,  ...,  3.6897e-01,\n",
       "           1.4170e-01, -1.6607e-02],\n",
       "         [ 1.7404e-01,  3.3733e-02,  1.4244e-02,  ...,  1.9969e-01,\n",
       "          -1.3030e-01,  6.4310e-02],\n",
       "         [ 1.9535e-01, -5.3107e-02,  1.5114e-01,  ...,  1.5681e-01,\n",
       "          -9.6242e-02, -1.0124e-02],\n",
       "         ...,\n",
       "         [ 8.6149e-02, -2.4956e-02, -2.5610e-02,  ...,  2.1204e-01,\n",
       "          -1.4505e-01, -1.2765e-02],\n",
       "         [ 2.2433e-02, -2.9903e-04, -4.2121e-02,  ...,  1.9584e-01,\n",
       "          -6.9230e-02, -4.2631e-02],\n",
       "         [ 1.8498e-02, -1.6939e-04, -5.9310e-02,  ...,  1.9051e-01,\n",
       "          -8.0952e-02,  6.3277e-03]]], device='cuda:0',\n",
       "       grad_fn=<StackBackward0>)"
      ]
     },
     "execution_count": 288,
     "metadata": {},
     "output_type": "execute_result"
    }
   ],
   "source": [
    "model.train()\n",
    "model.to(device)\n",
    "model(old_input)"
   ]
  },
  {
   "cell_type": "code",
   "execution_count": 281,
   "metadata": {},
   "outputs": [
    {
     "data": {
      "text/plain": [
       "tensor([[[ 0.3168, -0.8926,  0.4330,  ..., -0.4311, -0.1072, -0.2947],\n",
       "         [ 0.6227,  0.1689, -0.0955,  ...,  0.6620,  0.5843,  0.8092],\n",
       "         [ 0.4324,  0.4574, -0.8476,  ...,  0.1985,  0.0189, -0.2356],\n",
       "         ...,\n",
       "         [ 0.0211, -0.0673, -0.6237,  ...,  0.5999,  0.2107,  0.2072],\n",
       "         [-0.0892,  0.0916,  2.1027,  ...,  0.4371, -0.1155,  0.8550],\n",
       "         [ 0.2574,  0.8846, -0.0964,  ...,  0.0833, -0.6097, -0.2315]],\n",
       "\n",
       "        [[ 0.0034, -0.3145, -0.0900,  ...,  0.0314,  0.2440,  0.0850],\n",
       "         [ 0.0691, -0.7475, -0.2158,  ..., -0.6004,  0.0884, -0.5879],\n",
       "         [ 0.0668,  0.4437,  0.0940,  ...,  0.1309,  0.2482,  0.2645],\n",
       "         ...,\n",
       "         [-0.1654,  0.1392,  0.4341,  ..., -0.2398, -0.0333, -0.6826],\n",
       "         [ 0.5554, -0.1345, -0.8010,  ..., -0.1131,  0.4770,  0.0866],\n",
       "         [ 0.0456, -0.1974,  0.8776,  ...,  0.1746,  0.5212,  0.4142]],\n",
       "\n",
       "        [[ 0.3289, -0.2587, -0.3318,  ..., -0.0373,  0.4712,  0.2371],\n",
       "         [ 0.5680,  0.9734, -0.6693,  ..., -0.3374, -0.3121, -0.8488],\n",
       "         [ 0.2690,  0.0942,  0.9488,  ...,  0.5488,  0.2275,  0.5981],\n",
       "         ...,\n",
       "         [ 0.0924, -0.2851,  0.4850,  ...,  0.1706,  0.1719,  0.4616],\n",
       "         [-0.0780, -0.0957,  0.0570,  ..., -0.3106, -0.4137, -0.2440],\n",
       "         [-0.9802, -0.3610,  0.7510,  ..., -0.3462, -0.3504, -0.4562]],\n",
       "\n",
       "        ...,\n",
       "\n",
       "        [[ 0.0716, -0.2611,  0.7414,  ..., -0.2797, -0.0513,  0.2208],\n",
       "         [-0.3433, -0.1133, -0.2558,  ...,  0.1239, -0.4361,  0.0283],\n",
       "         [ 0.1042, -0.0504, -0.9894,  ..., -0.1905,  0.0124, -0.4226],\n",
       "         ...,\n",
       "         [ 1.4978, -0.8001, -0.8805,  ..., -0.0794,  1.2371,  0.7188],\n",
       "         [ 0.1658, -0.4350,  1.0065,  ..., -0.1771,  0.2144,  0.4452],\n",
       "         [-0.0500, -0.4575,  0.0240,  ..., -0.2981, -0.3688, -0.1136]],\n",
       "\n",
       "        [[-0.6289,  0.1641,  0.5235,  ...,  0.2614, -0.2972, -0.0354],\n",
       "         [ 0.4357, -0.1016,  0.8779,  ...,  0.1383,  0.6437,  0.4745],\n",
       "         [ 0.0943,  0.3172, -0.0900,  ..., -0.3139, -0.0632, -0.3638],\n",
       "         ...,\n",
       "         [-0.6375, -0.4823, -0.1851,  ..., -1.1445, -0.8243, -1.7701],\n",
       "         [-0.0071, -0.0537, -0.2614,  ..., -0.5473,  0.1013, -0.4410],\n",
       "         [-0.1819,  0.1363,  0.2002,  ...,  0.2627, -0.3751, -0.0191]],\n",
       "\n",
       "        [[ 0.3158,  0.0267,  0.1836,  ...,  0.3300,  0.2290,  0.2251],\n",
       "         [-0.9687, -0.0174, -0.7414,  ..., -0.8422, -0.9666, -1.2586],\n",
       "         [-0.5266, -0.0136, -0.2335,  ...,  0.1193, -0.4803,  0.0130],\n",
       "         ...,\n",
       "         [-0.3828,  0.2161,  0.3055,  ...,  1.0502, -0.0959,  0.7668],\n",
       "         [-0.3385, -1.4848,  0.2247,  ..., -0.2387, -0.3917, -0.5216],\n",
       "         [-0.0295,  0.1665,  0.8846,  ...,  0.4559,  0.1262,  0.6118]]],\n",
       "       device='cuda:0')"
      ]
     },
     "execution_count": 281,
     "metadata": {},
     "output_type": "execute_result"
    }
   ],
   "source": [
    "old_input@model.key.weight.data.transpose(-1,-2)"
   ]
  },
  {
   "cell_type": "markdown",
   "metadata": {},
   "source": [
    "Please complete the `SingleHeadAttention` class in `model.py`"
   ]
  },
  {
   "cell_type": "markdown",
   "metadata": {},
   "source": [
    "### Multi Head Attention (10 points)\n",
    "\n",
    "Now that we have a single head working, we will now scale this across multiple heads, remember that with multihead attention we compute perform head number of parallel attention operations. We then concatenate the outputs of these parallel attention operations and project them back to the desired dimension using an output linear layer.\n",
    "\n",
    "Figure below from the original paper shows how the layer is to be implemented.\n",
    "\n",
    "![image](./Images/MultiHead.png)\n",
    "\n",
    "Image credits: [Attention is All You Need Paper](https://arxiv.org/abs/1706.03762)"
   ]
  },
  {
   "cell_type": "markdown",
   "metadata": {},
   "source": [
    "Please complete the `MultiHeadAttention` class in `model.py` using the `SingleHeadAttention` class implemented earlier. "
   ]
  },
  {
   "cell_type": "code",
   "execution_count": null,
   "metadata": {},
   "outputs": [],
   "source": [
    "model = MultiHeadAttention(MiniGPTConfig.embed_dim, MiniGPTConfig.num_heads)\n",
    "\n",
    "tests.check_multiheadattention(model, path_to_gpt_tester, device)"
   ]
  },
  {
   "cell_type": "markdown",
   "metadata": {},
   "source": [
    "### Feed Forward Layer (5 points)\n",
    "\n",
    "As discussed in lecture, the attention layer is completely linear, in order to add some non-linearity we add a feed forward layer. The feed forward layer is a simple two layer MLP with a GeLU activation in between.\n",
    "\n",
    "Please complete the `FeedForwardLayer` class in `model.py`"
   ]
  },
  {
   "cell_type": "code",
   "execution_count": null,
   "metadata": {},
   "outputs": [],
   "source": [
    "model = FeedForwardLayer(MiniGPTConfig.embed_dim)\n",
    "\n",
    "tests.check_feedforward(model, path_to_gpt_tester, device)"
   ]
  },
  {
   "cell_type": "markdown",
   "metadata": {},
   "source": [
    "### LayerNorm (10 points)\n",
    "\n",
    "We will now implement the layer normalization layer. Layernorm is used across the model to normalize the activations of the previous layer. Recall that the equation for layernorm is given as:\n",
    "\n",
    "\\begin{equation}\n",
    "\n",
    "\\text{LayerNorm}(x) = \\frac{x - \\mu}{\\sqrt{\\sigma^2 + \\epsilon}} \\odot \\gamma + \\beta\n",
    "\n",
    "\\end{equation}\n",
    "\n",
    "With the learnable parameters $\\gamma$ and $\\beta$. \n",
    "\n",
    "Remember that unlike batchnorm we compute statistics across the feature dimension and not the batch dimension, hence we do not need to keep track of running averages."
   ]
  },
  {
   "cell_type": "markdown",
   "metadata": {},
   "source": [
    "Please complete the `LayerNorm` class in `model.py`"
   ]
  },
  {
   "cell_type": "code",
   "execution_count": null,
   "metadata": {},
   "outputs": [],
   "source": [
    "model = LayerNorm(MiniGPTConfig.embed_dim)\n",
    "tests.check_layernorm(model, path_to_gpt_tester, device)"
   ]
  },
  {
   "cell_type": "markdown",
   "metadata": {},
   "source": [
    "### Transformer Layer (15 points)\n",
    "\n",
    "We have now implemented all the components of the transformer layer. We will now put it all together to create a transformer layer. The transformer layer consists of a multi head attention layer, a feed forward layer and two layer norm layers.\n",
    "\n",
    "Please use the following order for each component (Varies slightly from the original attention paper):\n",
    "1. LayerNorm\n",
    "2. MultiHeadAttention\n",
    "3. LayerNorm\n",
    "4. FeedForwardLayer\n",
    "\n",
    "Remember that the transformer layer also has residual connections around each sublayer.\n",
    "\n",
    "The below figure shows the structure of the transformer layer you are required to implement.\n",
    "\n",
    "![prenorm_transformer](./Images/Prenorm.png)\n",
    "\n",
    "Image Credit : [CogView](https://arxiv.org/pdf/2105.13290)"
   ]
  },
  {
   "cell_type": "markdown",
   "metadata": {},
   "source": [
    "Implement the `TransformerLayer` class in `model.py`"
   ]
  },
  {
   "cell_type": "code",
   "execution_count": null,
   "metadata": {},
   "outputs": [],
   "source": [
    "model =  TransformerLayer(MiniGPTConfig.embed_dim, MiniGPTConfig.num_heads)\n",
    "tests.check_transformer(model, path_to_gpt_tester, device)"
   ]
  },
  {
   "cell_type": "markdown",
   "metadata": {},
   "source": [
    "### Putting it all together : MiniGPT (15 points)\n",
    "\n",
    "We are now ready to put all our layers together to build our own MiniGPT! \n",
    "\n",
    "The MiniGPT model consists of an embedding layer, a positional encoding layer and a stack of transformer layers. The output of the transformer layer is passed through a linear layer (called head) to get the final output logits. Note that in our implementation we will use [weight tying](https://arxiv.org/abs/1608.05859) between the embedding layer and the final linear layer. This allows us to save on parameters and also helps in training."
   ]
  },
  {
   "cell_type": "markdown",
   "metadata": {},
   "source": [
    "Implement the `MiniGPT` class in `model.py`"
   ]
  },
  {
   "cell_type": "code",
   "execution_count": null,
   "metadata": {},
   "outputs": [],
   "source": [
    "model = MiniGPT(MiniGPTConfig)\n",
    "tests.check_miniGPT(model, path_to_gpt_tester, device)"
   ]
  },
  {
   "cell_type": "markdown",
   "metadata": {},
   "source": [
    "### Attempt at training the model (5 points)\n",
    "\n",
    "We will now attempt to train the model on the text data. We will use the same text data as before. Please scale down the model parameters in the config file to a smaller value to make training feasible. \n",
    "\n",
    "Use the same training script we built for the Bigram model to train the MiniGPT model. If you implemented it correctly it should work just out of the box!\n",
    "\n",
    "**NOTE** : We will not be able to train the model to completion in this assignment. Unfortunately, without access to a relatively powerful GPU, training a large enough model to see good generation is not feasible. However, you should be able to see the loss decreasing over time. <span style=\"color:red\">To get full points for this section it is sufficient to show that the loss is decreasing over time</span>. You do not need to run this for more than 5000 iterations or 1 hour of training."
   ]
  },
  {
   "cell_type": "markdown",
   "metadata": {},
   "source": [
    "### Train and Valid Plots\n",
    "\n",
    "\n",
    "** Show the training and validation loss plots **"
   ]
  },
  {
   "cell_type": "markdown",
   "metadata": {},
   "source": [
    "### Generation (5 points)\n",
    "\n",
    "\n",
    "Perform generation with the model that you trained. Copy over the generation function you used for the Bigram model not the `miniGPT` class and generate a mini story using the same seed sentence. \n",
    "\n",
    "    `\"once upon a time\"`"
   ]
  },
  {
   "cell_type": "markdown",
   "metadata": {},
   "source": [
    "Please answer the following questions. \n",
    "\n",
    "1. What can we say about the generated text in terms of grammar and coherence? \n",
    "2. If the model is scaled with more parameters do you expect the GPT model to get substantially better? Why or why not?"
   ]
  },
  {
   "cell_type": "markdown",
   "metadata": {},
   "source": [
    "### Scaling up the model (5 points)\n",
    "\n",
    "To show that scale indeed will help the model learn we have trained a scaled up version of the model you just implemented. We will load the weights of this model and generate a mini story using the same seed sentence. Note that if you have implemented the model correctly just scaling the parameters and adding a few bells and whistles to the training script will results in a model like the one we will load now. "
   ]
  },
  {
   "cell_type": "code",
   "execution_count": null,
   "metadata": {},
   "outputs": [],
   "source": [
    "from model import MiniGPT\n",
    "from config import MiniGPTConfig"
   ]
  },
  {
   "cell_type": "code",
   "execution_count": null,
   "metadata": {},
   "outputs": [],
   "source": [
    "path_to_trained_model = \"pretrained_models/best_train_loss_checkpoint.pth\""
   ]
  },
  {
   "cell_type": "code",
   "execution_count": null,
   "metadata": {},
   "outputs": [],
   "source": [
    "ckpt = torch.load(path_to_trained_model, map_location=device) # remove map location if using GPU"
   ]
  },
  {
   "cell_type": "code",
   "execution_count": null,
   "metadata": {},
   "outputs": [],
   "source": [
    "# Set the configs for scaled model \n",
    "MiniGPTConfig.context_length = 512\n",
    "MiniGPTConfig.embed_dim = 256\n",
    "MiniGPTConfig.num_heads = 16\n",
    "MiniGPTConfig.num_layers = 8"
   ]
  },
  {
   "cell_type": "code",
   "execution_count": null,
   "metadata": {},
   "outputs": [],
   "source": [
    "# Load model from checkpoint\n",
    "model = MiniGPT(MiniGPTConfig)\n",
    "model.load_state_dict(ckpt[\"model_state_dict\"])"
   ]
  },
  {
   "cell_type": "code",
   "execution_count": null,
   "metadata": {},
   "outputs": [],
   "source": [
    "tokenizer = tiktoken.get_encoding(\"gpt2\")"
   ]
  },
  {
   "cell_type": "code",
   "execution_count": null,
   "metadata": {},
   "outputs": [],
   "source": [
    "model.to(device)\n",
    "gen_sent = \"Once upon a time\"\n",
    "gen_tokens = torch.tensor(tokenizer.encode(gen_sent))\n",
    "print(\"Generating text starting with:\", gen_tokens.shape)\n",
    "gen_tokens = gen_tokens.to(device)\n",
    "model.eval()\n",
    "print(\n",
    "    tokenizer.decode(\n",
    "        model.generate(gen_tokens, max_new_tokens=200).squeeze().tolist()\n",
    "    )\n",
    ")"
   ]
  },
  {
   "cell_type": "markdown",
   "metadata": {},
   "source": [
    "## Bonus (5 points)\n",
    "\n",
    "The following are some open ended questions that you can attempt if you have time. Feel free to propose your own as well if you have an interesting idea. \n",
    "\n",
    "1. The model we have implemented is a decoder only model. Can you implement the encoder part as well? This should not be too hard to do since most of the layers are already implemented.\n",
    "2. What are some improvements we can add to the training script to make training more efficient and faster? Can you concretely show that the improvements you made help in training the model better?\n",
    "3. Can you implement a beam search decoder to generate the text instead of greedy decoding? Does this help in generating better text?\n",
    "4. Can you further optimize the model architecture? For example, can you implement [Multi Query Attention](https://arxiv.org/abs/1911.02150) or [Grouped Query Attention](https://arxiv.org/pdf/2305.13245) to improve the model performance?"
   ]
  },
  {
   "cell_type": "markdown",
   "metadata": {},
   "source": []
  }
 ],
 "metadata": {
  "kernelspec": {
   "display_name": "Python 3 (ipykernel)",
   "language": "python",
   "name": "python3"
  },
  "language_info": {
   "codemirror_mode": {
    "name": "ipython",
    "version": 3
   },
   "file_extension": ".py",
   "mimetype": "text/x-python",
   "name": "python",
   "nbconvert_exporter": "python",
   "pygments_lexer": "ipython3",
   "version": "3.12.2"
  }
 },
 "nbformat": 4,
 "nbformat_minor": 2
}
